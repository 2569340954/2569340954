{
 "cells": [
  {
   "cell_type": "code",
   "execution_count": 1,
   "id": "4bdf4088",
   "metadata": {},
   "outputs": [],
   "source": [
    "# -*- coding: utf-8 -*-\n",
    "import numpy as np\n",
    "import pandas as pd\n",
    "import matplotlib.pyplot as plt\n",
    "import warnings\n",
    "warnings.filterwarnings('ignore')\n",
    "plt.rcParams['font.sans-serif'] = ['SimHei']"
   ]
  },
  {
   "cell_type": "code",
   "execution_count": 2,
   "id": "22915a1a",
   "metadata": {},
   "outputs": [
    {
     "name": "stdout",
     "output_type": "stream",
     "text": [
      "        x  y\n",
      "0   1.510  0\n",
      "1   1.517  0\n",
      "2   1.522  0\n",
      "3   1.563  0\n",
      "4   1.595  0\n",
      "5   1.526  0\n",
      "6   1.542  0\n",
      "7   1.558  0\n",
      "8   1.574  0\n",
      "9   1.590  0\n",
      "10  1.699  1\n",
      "11  1.727  1\n",
      "12  1.700  1\n",
      "13  1.702  1\n",
      "14  1.704  1\n",
      "15  1.706  1\n",
      "16  1.708  1\n",
      "17  1.710  1\n",
      "18  1.712  1\n",
      "19  1.714  1\n"
     ]
    },
    {
     "data": {
      "image/png": "[encoded data removed]",
      "text/plain": [
       "<Figure size 432x288 with 1 Axes>"
      ]
     },
     "metadata": {
      "needs_background": "light"
     },
     "output_type": "display_data"
    }
   ],
   "source": [
    "data=pd.read_csv(r'E:\\OneDrive\\桌面\\4.17 2022数模大作业\\B题  共享汽车运营策略探讨\\2.csv')\n",
    "print(data)\n",
    "plt.scatter(data['x'],data['y'],s=1)\n",
    "plt.title('行驶距离与收取费用关系图')\n",
    "plt.savefig('dingjia')\n",
    "plt.show()"
   ]
  },
  {
   "cell_type": "code",
   "execution_count": 3,
   "id": "6e02ffc4",
   "metadata": {},
   "outputs": [
    {
     "data": {
      "text/html": [
       "<div>\n",
       "<style scoped>\n",
       "    .dataframe tbody tr th:only-of-type {\n",
       "        vertical-align: middle;\n",
       "    }\n",
       "\n",
       "    .dataframe tbody tr th {\n",
       "        vertical-align: top;\n",
       "    }\n",
       "\n",
       "    .dataframe thead th {\n",
       "        text-align: right;\n",
       "    }\n",
       "</style>\n",
       "<table border=\"1\" class=\"dataframe\">\n",
       "  <thead>\n",
       "    <tr style=\"text-align: right;\">\n",
       "      <th></th>\n",
       "      <th>x</th>\n",
       "      <th>y</th>\n",
       "    </tr>\n",
       "  </thead>\n",
       "  <tbody>\n",
       "    <tr>\n",
       "      <th>count</th>\n",
       "      <td>20.000000</td>\n",
       "      <td>20.000000</td>\n",
       "    </tr>\n",
       "    <tr>\n",
       "      <th>mean</th>\n",
       "      <td>1.628950</td>\n",
       "      <td>0.500000</td>\n",
       "    </tr>\n",
       "    <tr>\n",
       "      <th>std</th>\n",
       "      <td>0.084222</td>\n",
       "      <td>0.512989</td>\n",
       "    </tr>\n",
       "    <tr>\n",
       "      <th>min</th>\n",
       "      <td>1.510000</td>\n",
       "      <td>0.000000</td>\n",
       "    </tr>\n",
       "    <tr>\n",
       "      <th>25%</th>\n",
       "      <td>1.554000</td>\n",
       "      <td>0.000000</td>\n",
       "    </tr>\n",
       "    <tr>\n",
       "      <th>50%</th>\n",
       "      <td>1.647000</td>\n",
       "      <td>0.500000</td>\n",
       "    </tr>\n",
       "    <tr>\n",
       "      <th>75%</th>\n",
       "      <td>1.706500</td>\n",
       "      <td>1.000000</td>\n",
       "    </tr>\n",
       "    <tr>\n",
       "      <th>max</th>\n",
       "      <td>1.727000</td>\n",
       "      <td>1.000000</td>\n",
       "    </tr>\n",
       "  </tbody>\n",
       "</table>\n",
       "</div>"
      ],
      "text/plain": [
       "               x          y\n",
       "count  20.000000  20.000000\n",
       "mean    1.628950   0.500000\n",
       "std     0.084222   0.512989\n",
       "min     1.510000   0.000000\n",
       "25%     1.554000   0.000000\n",
       "50%     1.647000   0.500000\n",
       "75%     1.706500   1.000000\n",
       "max     1.727000   1.000000"
      ]
     },
     "execution_count": 3,
     "metadata": {},
     "output_type": "execute_result"
    }
   ],
   "source": [
    "data.describe()"
   ]
  },
  {
   "cell_type": "code",
   "execution_count": 4,
   "id": "5906740e",
   "metadata": {},
   "outputs": [
    {
     "name": "stdout",
     "output_type": "stream",
     "text": [
      "训练集数据大小为 16 16\n",
      "测试集数据大小为 4 4\n"
     ]
    },
    {
     "data": {
      "image/png": "[encoded data removed]",
      "text/plain": [
       "<Figure size 432x288 with 1 Axes>"
      ]
     },
     "metadata": {
      "needs_background": "light"
     },
     "output_type": "display_data"
    }
   ],
   "source": [
    "#1.拆分训练集和测试集\n",
    "from sklearn.model_selection import KFold\n",
    "from sklearn.model_selection import train_test_split\n",
    "\n",
    "exam_X=data['x']\n",
    "exam_y=data['y']\n",
    "exam_X=exam_X.values.reshape(-1,1)\n",
    "exam_y=exam_y.values.reshape(-1,1)\n",
    "train_X,test_X,train_y,test_y=train_test_split(exam_X,exam_y,train_size=0.8)\n",
    "print('训练集数据大小为',train_X.size,train_y.size)\n",
    "print('测试集数据大小为',test_X.size,test_y.size)\n",
    "\n",
    "#2.散点图观察\n",
    "plt.scatter(train_X,train_y,color='b',label='train data')\n",
    "plt.scatter(test_X,test_y,color='r',label='test data')\n",
    "#plt.plot(test_X,pred_y,color='r')\n",
    "plt.legend(loc=2)\n",
    "plt.xlabel('Hours')\n",
    "plt.ylabel('Scores')\n",
    "plt.show()\n"
   ]
  },
  {
   "cell_type": "code",
   "execution_count": 5,
   "id": "9bcb1721",
   "metadata": {},
   "outputs": [
    {
     "name": "stdout",
     "output_type": "stream",
     "text": [
      "1.0\n",
      "1.41\n",
      "[[0.53427152 0.46572848]]\n",
      "[0]\n",
      "1.42\n",
      "[[0.53267939 0.46732061]]\n",
      "[0]\n",
      "1.43\n",
      "[[0.53108659 0.46891341]]\n",
      "[0]\n",
      "1.44\n",
      "[[0.52949316 0.47050684]]\n",
      "[0]\n",
      "1.45\n",
      "[[0.52789913 0.47210087]]\n",
      "[0]\n",
      "1.46\n",
      "[[0.52630453 0.47369547]]\n",
      "[0]\n",
      "1.47\n",
      "[[0.52470939 0.47529061]]\n",
      "[0]\n",
      "1.48\n",
      "[[0.52311375 0.47688625]]\n",
      "[0]\n",
      "1.49\n",
      "[[0.52151764 0.47848236]]\n",
      "[0]\n",
      "1.5\n",
      "[[0.51992109 0.48007891]]\n",
      "[0]\n",
      "该模型对应的回归函数为:1/(1+exp-(-1.039307+0.639720*x))\n"
     ]
    },
    {
     "data": {
      "image/png": "[encoded data removed]",
      "text/plain": [
       "<Figure size 432x288 with 1 Axes>"
      ]
     },
     "metadata": {
      "needs_background": "light"
     },
     "output_type": "display_data"
    }
   ],
   "source": [
    "# 导入模型\n",
    "from sklearn.linear_model import LogisticRegression\n",
    "modelLR=LogisticRegression()\n",
    "# 训练模型\n",
    "modelLR.fit(train_X,train_y)\n",
    "# 模型评分（即准确率）\n",
    "modelLR.score(test_X,test_y)\n",
    "print(modelLR.score(test_X,test_y))\n",
    "#里程数确定时，预测费用\n",
    "#先求出回归函数y=a+bx，再代入逻辑函数中pred_y=1/(1+np.exp(-y))\n",
    "b=modelLR.coef_\n",
    "a=modelLR.intercept_\n",
    "m=1.4\n",
    "for i in range(10):\n",
    "    m=m+0.1/10\n",
    "    print(m)\n",
    "    print(modelLR.predict_proba([[m]]))\n",
    "    print(modelLR.predict([[m]]))\n",
    "print('该模型对应的回归函数为:1/(1+exp-(%f+%f*x))'%(a,b))\n",
    "#画出相应的逻辑回归曲线\n",
    "plt.scatter(train_X,train_y,color='b',label='train data')\n",
    "plt.scatter(test_X,test_y,color='r',label='test data')\n",
    "plt.plot(test_X,1/(1+np.exp(-(a+b*test_X))),color='r')\n",
    "plt.plot(exam_X,1/(1+np.exp(-(a+b*exam_X))),color='y')\n",
    "plt.legend(loc=2)\n",
    "plt.xlabel('行驶距离')\n",
    "plt.ylabel('收取费用')\n",
    "plt.show()"
   ]
  },
  {
   "cell_type": "code",
   "execution_count": 6,
   "id": "0d5b874c",
   "metadata": {},
   "outputs": [
    {
     "data": {
      "text/plain": [
       "array([[2, 0],\n",
       "       [0, 2]], dtype=int64)"
      ]
     },
     "execution_count": 6,
     "metadata": {},
     "output_type": "execute_result"
    }
   ],
   "source": [
    "# 混淆矩阵\n",
    "from sklearn.metrics import confusion_matrix\n",
    "#数值处理\n",
    "pred_y=1/(1+np.exp(-(a+b*test_X)))\n",
    "pred_y=pd.DataFrame(pred_y)\n",
    "pred_y=round(pred_y,0).astype(int)\n",
    "#混淆矩阵\n",
    "confusion_matrix(test_y.astype(str),pred_y.astype(str))\n"
   ]
  },
  {
   "cell_type": "code",
   "execution_count": 7,
   "id": "c2d6a5aa",
   "metadata": {},
   "outputs": [
    {
     "data": {
      "text/plain": [
       "<Figure size 432x288 with 0 Axes>"
      ]
     },
     "metadata": {},
     "output_type": "display_data"
    },
    {
     "data": {
      "image/png": "[encoded data removed]",
      "text/plain": [
       "<Figure size 720x720 with 1 Axes>"
      ]
     },
     "metadata": {
      "needs_background": "light"
     },
     "output_type": "display_data"
    }
   ],
   "source": [
    "# 绘制模型ROC曲线\n",
    "from sklearn.metrics import roc_curve, auc  ###计算roc和auc\n",
    "# Compute ROC curve and ROC area for each class\n",
    "fpr,tpr,threshold = roc_curve(test_y, pred_y) ###计算真正率和假正率\n",
    "roc_auc = auc(fpr,tpr) ###计算auc的值\n",
    "\n",
    "plt.figure()\n",
    "lw = 2\n",
    "plt.figure(figsize=(10,10))\n",
    "plt.plot(fpr, tpr, color='r',\n",
    "         lw=lw, label='ROC curve (area = %0.2f)' % roc_auc) ###假正率为横坐标，真正率为纵坐标做曲线\n",
    "plt.plot([0, 1], [0, 1], color='navy', lw=lw, linestyle='--')\n",
    "plt.xlim([0.0, 1.0])\n",
    "plt.ylim([0.0, 1.0])\n",
    "plt.xlabel('False Positive Rate')\n",
    "plt.ylabel('True Positive Rate')\n",
    "plt.title('Receiver operating characteristic example')\n",
    "plt.legend(loc=\"lower right\")\n",
    "plt.show()\n"
   ]
  },
  {
   "cell_type": "code",
   "execution_count": null,
   "id": "9bdf23b1",
   "metadata": {},
   "outputs": [],
   "source": []
  },
  {
   "cell_type": "code",
   "execution_count": null,
   "id": "57b87ea8",
   "metadata": {},
   "outputs": [],
   "source": []
  }
 ],
 "metadata": {
  "kernelspec": {
   "display_name": "Python 3 (ipykernel)",
   "language": "python",
   "name": "python3"
  },
  "language_info": {
   "codemirror_mode": {
    "name": "ipython",
    "version": 3
   },
   "file_extension": ".py",
   "mimetype": "text/x-python",
   "name": "python",
   "nbconvert_exporter": "python",
   "pygments_lexer": "ipython3",
   "version": "3.9.7"
  }
 },
 "nbformat": 4,
 "nbformat_minor": 5
}
