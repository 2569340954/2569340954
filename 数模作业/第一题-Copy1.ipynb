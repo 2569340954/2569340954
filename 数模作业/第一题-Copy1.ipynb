{
 "cells": [
  {
   "cell_type": "code",
   "execution_count": 1,
   "id": "cf533820",
   "metadata": {},
   "outputs": [],
   "source": [
    "# -*- coding: utf-8 -*-\n",
    "import numpy as np\n",
    "import pandas as pd\n",
    "import matplotlib.pyplot as plt\n",
    "plt.rcParams['font.sans-serif'] = ['SimHei']"
   ]
  },
  {
   "cell_type": "code",
   "execution_count": 2,
   "id": "bd1b56b6",
   "metadata": {},
   "outputs": [
    {
     "name": "stdout",
     "output_type": "stream",
     "text": [
      "             x     y\n",
      "0        0.502  12.0\n",
      "1        0.502  12.0\n",
      "2        0.506  12.0\n",
      "3        0.506  12.0\n",
      "4        0.506  12.0\n",
      "...        ...   ...\n",
      "1048570    NaN   NaN\n",
      "1048571    NaN   NaN\n",
      "1048572    NaN   NaN\n",
      "1048573    NaN   NaN\n",
      "1048574    NaN   NaN\n",
      "\n",
      "[1048575 rows x 2 columns]\n"
     ]
    },
    {
     "data": {
      "image/png": "[encoded data removed]",
      "text/plain": [
       "<Figure size 432x288 with 1 Axes>"
      ]
     },
     "metadata": {
      "needs_background": "light"
     },
     "output_type": "display_data"
    }
   ],
   "source": [
    "data=pd.read_csv(r'E:\\OneDrive\\桌面\\4.17 2022数模大作业\\B题  共享汽车运营策略探讨\\日常价格.csv',encoding='gb2312')\n",
    "print(data)\n",
    "plt.scatter(data['x'],data['y'],s=1)\n",
    "plt.title('usually')\n",
    "plt.savefig('dingjia')\n",
    "plt.show()"
   ]
  },
  {
   "cell_type": "code",
   "execution_count": 3,
   "id": "cd23b05d",
   "metadata": {},
   "outputs": [
    {
     "name": "stdout",
     "output_type": "stream",
     "text": [
      "        x  y\n",
      "0   1.350  0\n",
      "1   1.355  0\n",
      "2   1.360  0\n",
      "3   1.365  0\n",
      "4   1.370  0\n",
      "5   1.375  0\n",
      "6   1.376  0\n",
      "7   1.356  0\n",
      "8   1.358  0\n",
      "9   1.359  0\n",
      "10  1.357  0\n",
      "11  1.378  0\n",
      "12  1.510  1\n",
      "13  1.520  1\n",
      "14  1.530  1\n",
      "15  1.560  1\n",
      "16  1.540  1\n",
      "17  1.580  1\n",
      "18  1.570  1\n",
      "19  1.517  1\n",
      "20  1.522  1\n",
      "21  1.563  1\n",
      "22  1.595  1\n"
     ]
    },
    {
     "data": {
      "image/png": "[encoded data removed]",
      "text/plain": [
       "<Figure size 432x288 with 1 Axes>"
      ]
     },
     "metadata": {
      "needs_background": "light"
     },
     "output_type": "display_data"
    }
   ],
   "source": [
    "data=pd.read_csv(r'E:\\OneDrive\\桌面\\4.17 2022数模大作业\\B题  共享汽车运营策略探讨\\五一高价.csv')\n",
    "print(data)\n",
    "plt.scatter(data['x'],data['y'],s=1)\n",
    "plt.title('日常价格')\n",
    "plt.savefig('日常价格')\n",
    "plt.show()"
   ]
  },
  {
   "cell_type": "code",
   "execution_count": 4,
   "id": "8219d7fc",
   "metadata": {},
   "outputs": [
    {
     "name": "stdout",
     "output_type": "stream",
     "text": [
      "[-7.09074145] [[5.21749845]]\n",
      "[[-7.09074145]\n",
      " [ 3.34425546]]\n",
      "[-1.53676062]\n",
      "\n",
      " [[0.99922595]]\n"
     ]
    },
    {
     "name": "stderr",
     "output_type": "stream",
     "text": [
      "E:\\ProgramData\\Anaconda3\\lib\\site-packages\\sklearn\\base.py:450: UserWarning: X does not have valid feature names, but LinearRegression was fitted with feature names\n",
      "  warnings.warn(\n",
      "E:\\ProgramData\\Anaconda3\\lib\\site-packages\\sklearn\\utils\\validation.py:993: DataConversionWarning: A column-vector y was passed when a 1d array was expected. Please change the shape of y to (n_samples, ), for example using ravel().\n",
      "  y = column_or_1d(y, warn=True)\n"
     ]
    }
   ],
   "source": [
    "# KNN\n",
    "import numpy as np\n",
    "from sklearn.linear_model import LinearRegression\n",
    "lin_reg = LinearRegression()\n",
    "lin_reg.fit(data[['x']],data[['y']])\n",
    "print(lin_reg.intercept_, lin_reg.coef_)\n",
    " \n",
    "X_new = np.array([[0], [2]])\n",
    "print(lin_reg.predict(X_new))\n",
    "# feixianxin\n",
    "from sklearn.linear_model import LogisticRegression\n",
    "# 调用sklearn自带的逻辑回归方法\n",
    "sk = LogisticRegression(max_iter=100000)\n",
    "sk.fit(data[['x']],data[['y']]) # 此处的x和y与上面自己实现的一致\n",
    "print(sk.intercept_)\n",
    "print('\\n',sk.coef_) #output [-0.11612453  0.00272452]\n"
   ]
  },
  {
   "cell_type": "code",
   "execution_count": 5,
   "id": "16773878",
   "metadata": {},
   "outputs": [
    {
     "name": "stdout",
     "output_type": "stream",
     "text": [
      "             x     y\n",
      "0        1.730  14.0\n",
      "1        1.723  14.0\n",
      "2        1.712  14.0\n",
      "3        1.935  14.0\n",
      "4        2.112  14.0\n",
      "...        ...   ...\n",
      "1048570    NaN   NaN\n",
      "1048571    NaN   NaN\n",
      "1048572    NaN   NaN\n",
      "1048573    NaN   NaN\n",
      "1048574    NaN   NaN\n",
      "\n",
      "[1048575 rows x 2 columns]\n"
     ]
    },
    {
     "data": {
      "image/png": "[encoded data removed]",
      "text/plain": [
       "<Figure size 432x288 with 1 Axes>"
      ]
     },
     "metadata": {
      "needs_background": "light"
     },
     "output_type": "display_data"
    }
   ],
   "source": [
    "data=pd.read_csv(r'E:\\OneDrive\\桌面\\4.17 2022数模大作业\\B题  共享汽车运营策略探讨\\五一正常价.csv')\n",
    "print(data)\n",
    "plt.scatter(data['x'],data['y'],s=1)\n",
    "plt.title('wuyizchangjia')\n",
    "plt.savefig('dingjia')\n",
    "plt.show()"
   ]
  },
  {
   "cell_type": "code",
   "execution_count": 6,
   "id": "47886711",
   "metadata": {},
   "outputs": [
    {
     "name": "stdout",
     "output_type": "stream",
     "text": [
      "            五一    五二\n",
      "0        0.502  12.0\n",
      "1        0.502  12.0\n",
      "2        0.506  12.0\n",
      "3        0.506  12.0\n",
      "4        0.506  12.0\n",
      "...        ...   ...\n",
      "1048570    NaN   NaN\n",
      "1048571    NaN   NaN\n",
      "1048572    NaN   NaN\n",
      "1048573    NaN   NaN\n",
      "1048574    NaN   NaN\n",
      "\n",
      "[1048575 rows x 2 columns]\n"
     ]
    },
    {
     "data": {
      "image/png": "[encoded data removed]",
      "text/plain": [
       "<Figure size 432x288 with 1 Axes>"
      ]
     },
     "metadata": {
      "needs_background": "light"
     },
     "output_type": "display_data"
    }
   ],
   "source": [
    "# -*- coding: utf-8 -*-\n",
    "import numpy as np\n",
    "import pandas as pd\n",
    "import matplotlib.pyplot as plt\n",
    "data=pd.read_csv(r'E:\\OneDrive\\桌面\\4.17 2022数模大作业\\B题  共享汽车运营策略探讨\\正常价.csv',encoding = 'gb2312')\n",
    "print(data)\n",
    "plt.scatter(data['五一'],data['五二'],s=1)\n",
    "plt.title('wuyizchangjia')\n",
    "plt.savefig('dingjia')\n",
    "plt.show()"
   ]
  },
  {
   "cell_type": "code",
   "execution_count": null,
   "id": "765d2164",
   "metadata": {},
   "outputs": [],
   "source": []
  }
 ],
 "metadata": {
  "kernelspec": {
   "display_name": "Python 3 (ipykernel)",
   "language": "python",
   "name": "python3"
  },
  "language_info": {
   "codemirror_mode": {
    "name": "ipython",
    "version": 3
   },
   "file_extension": ".py",
   "mimetype": "text/x-python",
   "name": "python",
   "nbconvert_exporter": "python",
   "pygments_lexer": "ipython3",
   "version": "3.9.7"
  }
 },
 "nbformat": 4,
 "nbformat_minor": 5
}
